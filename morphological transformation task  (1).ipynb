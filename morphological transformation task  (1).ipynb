{
 "cells": [
  {
   "cell_type": "code",
   "execution_count": 1,
   "id": "cb6c7aba-826b-47e4-af8e-a7b0b131ce93",
   "metadata": {},
   "outputs": [],
   "source": [
    "import cv2 \n",
    "import numpy as np"
   ]
  },
  {
   "cell_type": "code",
   "execution_count": 2,
   "id": "bc295ee1-ceca-4c20-8840-73394619b6d4",
   "metadata": {
    "scrolled": true
   },
   "outputs": [],
   "source": [
    "img = cv2.imread(r\"C:\\Users\\Varshitha\\Downloads\\morphological trans.jpg\")"
   ]
  },
  {
   "cell_type": "code",
   "execution_count": 3,
   "id": "56c0325d-1f6d-42da-97e8-09811120ff8e",
   "metadata": {},
   "outputs": [
    {
     "data": {
      "text/plain": [
       "(900, 882, 3)"
      ]
     },
     "execution_count": 3,
     "metadata": {},
     "output_type": "execute_result"
    }
   ],
   "source": [
    "img.shape"
   ]
  },
  {
   "cell_type": "code",
   "execution_count": 4,
   "id": "568cffdd-7f0b-40f3-9f62-5015a3a540ae",
   "metadata": {},
   "outputs": [],
   "source": [
    "kernel = np.ones((3,3),dtype=np.uint8)"
   ]
  },
  {
   "cell_type": "code",
   "execution_count": 5,
   "id": "5fae7f10-03e3-4398-985d-df879cf711d2",
   "metadata": {},
   "outputs": [],
   "source": [
    "dilation = cv2.dilate(src=img,kernel=kernel,iterations=1) \n",
    "erosion = cv2.erode(src=img,kernel=kernel,iterations=5) \n",
    "opening = cv2.morphologyEx(src=img,op=cv2.MORPH_OPEN,kernel=kernel,iterations=10) \n",
    "closing = cv2.morphologyEx(src=img,op=cv2.MORPH_CLOSE,kernel=kernel,iterations=10) \n",
    "gradient = cv2.morphologyEx(src=img,op=cv2.MORPH_GRADIENT,kernel=kernel,iterations=10) \n",
    "tophat = cv2.morphologyEx(src=img,op=cv2.MORPH_TOPHAT,kernel=kernel,iterations=10) \n",
    "\n",
    "\n",
    "cv2.putText(img,\"orginal\",(250,500),cv2.FONT_ITALIC,1,(0,255,0),4) \n",
    "cv2.putText(dilation,\"dilation\",(250,500),cv2.FONT_ITALIC,1,(0,255,0),4) \n",
    "cv2.putText(erosion,\"erosion\",(250,500),cv2.FONT_ITALIC,1,(0,255,0),4)\n",
    "cv2.putText(opening,\"opening\",(250,500),cv2.FONT_ITALIC,1,(0,255,0),4)\n",
    "cv2.putText(closing,\"closing\",(250,500),cv2.FONT_ITALIC,1,(0,255,0),4)\n",
    "cv2.putText(gradient,\"gradient\",(250,500),cv2.FONT_ITALIC,1,(0,255,0),4)\n",
    "cv2.putText(tophat,\"top-hat\",(250,500),cv2.FONT_ITALIC,1,(0,255,0),4)  \n",
    "\n",
    "cv2.imshow(\"oi\",img) \n",
    "cv2.imshow(\"dilation\",dilation) \n",
    "cv2.imshow(\"erosion\",erosion) \n",
    "cv2.imshow(\"opening\",opening) \n",
    "cv2.imshow(\"closing\",closing)\n",
    "cv2.imshow(\"gradient\",gradient) \n",
    "cv2.imshow(\"top hat\",tophat) \n",
    "\n",
    "cv2.waitKey() \n",
    "cv2.destroyAllWindows()"
   ]
  },
  {
   "cell_type": "code",
   "execution_count": 1,
   "id": "705c9bfd-4dff-4837-a22e-9bd12268fbfd",
   "metadata": {},
   "outputs": [
    {
     "ename": "error",
     "evalue": "OpenCV(4.11.0) D:\\a\\opencv-python\\opencv-python\\opencv\\modules\\highgui\\src\\window_w32.cpp:2564: error: (-27:Null pointer) NULL window: 'morphological transformations' in function 'cvGetTrackbarPos'\n",
     "output_type": "error",
     "traceback": [
      "\u001b[1;31m---------------------------------------------------------------------------\u001b[0m",
      "\u001b[1;31merror\u001b[0m                                     Traceback (most recent call last)",
      "Cell \u001b[1;32mIn[1], line 15\u001b[0m\n\u001b[0;32m     12\u001b[0m labels \u001b[38;5;241m=\u001b[39m [\u001b[38;5;124m\"\u001b[39m\u001b[38;5;124mOriginal\u001b[39m\u001b[38;5;124m\"\u001b[39m, \u001b[38;5;124m\"\u001b[39m\u001b[38;5;124mDilation\u001b[39m\u001b[38;5;124m\"\u001b[39m, \u001b[38;5;124m\"\u001b[39m\u001b[38;5;124mErosion\u001b[39m\u001b[38;5;124m\"\u001b[39m, \u001b[38;5;124m\"\u001b[39m\u001b[38;5;124mOpening\u001b[39m\u001b[38;5;124m\"\u001b[39m, \u001b[38;5;124m\"\u001b[39m\u001b[38;5;124mClosing\u001b[39m\u001b[38;5;124m\"\u001b[39m, \u001b[38;5;124m\"\u001b[39m\u001b[38;5;124mGradient\u001b[39m\u001b[38;5;124m\"\u001b[39m, \u001b[38;5;124m\"\u001b[39m\u001b[38;5;124mTop Hat\u001b[39m\u001b[38;5;124m\"\u001b[39m, \u001b[38;5;124m\"\u001b[39m\u001b[38;5;124mBlack Hat\u001b[39m\u001b[38;5;124m\"\u001b[39m]\n\u001b[0;32m     14\u001b[0m \u001b[38;5;28;01mwhile\u001b[39;00m \u001b[38;5;28;01mTrue\u001b[39;00m:\n\u001b[1;32m---> 15\u001b[0m     iteration \u001b[38;5;241m=\u001b[39m cv2\u001b[38;5;241m.\u001b[39mgetTrackbarPos(\u001b[38;5;124m\"\u001b[39m\u001b[38;5;124miter\u001b[39m\u001b[38;5;124m\"\u001b[39m, \u001b[38;5;124m\"\u001b[39m\u001b[38;5;124mmorphological transformations\u001b[39m\u001b[38;5;124m\"\u001b[39m)\n\u001b[0;32m     17\u001b[0m     transformations \u001b[38;5;241m=\u001b[39m [\n\u001b[0;32m     18\u001b[0m         img\u001b[38;5;241m.\u001b[39mcopy(),\n\u001b[0;32m     19\u001b[0m         cv2\u001b[38;5;241m.\u001b[39mdilate(img, filter_, iterations\u001b[38;5;241m=\u001b[39miteration),\n\u001b[1;32m   (...)\u001b[0m\n\u001b[0;32m     25\u001b[0m         cv2\u001b[38;5;241m.\u001b[39mmorphologyEx(img, cv2\u001b[38;5;241m.\u001b[39mMORPH_BLACKHAT, filter_, iterations\u001b[38;5;241m=\u001b[39miteration)\n\u001b[0;32m     26\u001b[0m     ]\n\u001b[0;32m     28\u001b[0m     h, w \u001b[38;5;241m=\u001b[39m img\u001b[38;5;241m.\u001b[39mshape\n",
      "\u001b[1;31merror\u001b[0m: OpenCV(4.11.0) D:\\a\\opencv-python\\opencv-python\\opencv\\modules\\highgui\\src\\window_w32.cpp:2564: error: (-27:Null pointer) NULL window: 'morphological transformations' in function 'cvGetTrackbarPos'\n"
     ]
    }
   ],
   "source": [
    "import cv2\n",
    "import numpy as np\n",
    "\n",
    "def f1(x):\n",
    "    pass\n",
    "\n",
    "cv2.namedWindow(\"morphological transformations\")\n",
    "cv2.createTrackbar(\"iter\", \"morphological transformations\", 1, 30, f1)\n",
    "\n",
    "img = cv2.imread(r\"C:\\Users\\Varshitha\\Downloads\\morphological trans.jpg\", 0)\n",
    "filter_ = np.ones((3, 3), dtype=\"uint8\")\n",
    "labels = [\"Original\", \"Dilation\", \"Erosion\", \"Opening\", \"Closing\", \"Gradient\", \"Top Hat\", \"Black Hat\"]\n",
    "\n",
    "while True:\n",
    "    iteration = cv2.getTrackbarPos(\"iter\", \"morphological transformations\")\n",
    "\n",
    "    transformations = [\n",
    "        img.copy(),\n",
    "        cv2.dilate(img, filter_, iterations=iteration),\n",
    "        cv2.erode(img, filter_, iterations=iteration),\n",
    "        cv2.morphologyEx(img, cv2.MORPH_OPEN, filter_, iterations=iteration),\n",
    "        cv2.morphologyEx(img, cv2.MORPH_CLOSE, filter_, iterations=iteration),\n",
    "        cv2.morphologyEx(img, cv2.MORPH_GRADIENT, filter_, iterations=iteration),\n",
    "        cv2.morphologyEx(img, cv2.MORPH_TOPHAT, filter_, iterations=iteration),\n",
    "        cv2.morphologyEx(img, cv2.MORPH_BLACKHAT, filter_, iterations=iteration)\n",
    "    ]\n",
    "\n",
    "    h, w = img.shape\n",
    "    lst = []\n",
    "    for label, image in zip(labels, transformations):\n",
    "        img_resized = cv2.resize(image, (w, h))\n",
    "        cv2.putText(img_resized, label, (10, 25), cv2.FONT_ITALIC, 0.7, 255, 2)\n",
    "        lst.append(img_resized)\n",
    "\n",
    "    row1 = np.hstack(lst[:4])\n",
    "    row2 = np.hstack(lst[4:])\n",
    "    result = np.vstack((row1, row2))\n",
    "\n",
    "    cv2.imshow(\"morphological transformations\", result)\n",
    "\n",
    "    if cv2.waitKey(1) & 0xFF == ord('q'):\n",
    "        break\n",
    "\n",
    "cv2.destroyAllWindows()"
   ]
  },
  {
   "cell_type": "code",
   "execution_count": null,
   "id": "f77d2ab4-05bb-4dd6-bd68-a1a04861351a",
   "metadata": {},
   "outputs": [],
   "source": []
  }
 ],
 "metadata": {
  "kernelspec": {
   "display_name": "Python 3 (ipykernel)",
   "language": "python",
   "name": "python3"
  },
  "language_info": {
   "codemirror_mode": {
    "name": "ipython",
    "version": 3
   },
   "file_extension": ".py",
   "mimetype": "text/x-python",
   "name": "python",
   "nbconvert_exporter": "python",
   "pygments_lexer": "ipython3",
   "version": "3.12.7"
  }
 },
 "nbformat": 4,
 "nbformat_minor": 5
}
